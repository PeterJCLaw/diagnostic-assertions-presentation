{
 "cells": [
  {
   "cell_type": "markdown",
   "metadata": {
    "slideshow": {
     "slide_type": "slide"
    }
   },
   "source": [
    "# Diagnostic Assertions\n",
    "\n",
    "## How to make reading, writing & fixing tests easier\n",
    "\n",
    "\n",
    "-----\n",
    "Peter Law\n"
   ]
  },
  {
   "cell_type": "markdown",
   "metadata": {
    "slideshow": {
     "slide_type": "notes"
    }
   },
   "source": [
    "* How many of you have tests?\n",
    "* How many of you have ever had test failures?\n",
    "* How many of you found it really easy to fix those test failures?"
   ]
  },
  {
   "cell_type": "code",
   "execution_count": null,
   "metadata": {
    "slideshow": {
     "slide_type": "skip"
    }
   },
   "outputs": [],
   "source": [
    "def make_request(page, method='GET', data=None):\n",
    "    if page == 'the-page':\n",
    "        if method == 'GET':\n",
    "            return 200, \"<h1>This is the good page</h1>\"\n",
    "        elif method == 'POST':\n",
    "            if data == 'valid-data':\n",
    "                return 200, \"<h2>Your submission succeeded</h2>\"\n",
    "            else:\n",
    "                return 200, \"<h2>Your submission was invalid</h2>\"\n",
    "        else:\n",
    "            return 500, \"Oops! Here's a stack trace...\"\n",
    "\n",
    "    return 404, \"Unknown request %r %r %r\" % (page, method, data)\n",
    "\n",
    "def run_test_suite(test_class):\n",
    "    suite = unittest.TestLoader().loadTestsFromTestCase(test_class)\n",
    "    unittest.TextTestRunner(verbosity=1).run(suite)\n"
   ]
  },
  {
   "cell_type": "code",
   "execution_count": null,
   "metadata": {
    "slideshow": {
     "slide_type": "slide"
    }
   },
   "outputs": [],
   "source": [
    "import unittest\n",
    "\n",
    "class RequestTests(unittest.TestCase):\n",
    "    def test_page_loads(self):\n",
    "        response = make_request('the-page')\n",
    "        self.assertTrue(200 == response, \"Bad status code\")\n",
    "\n",
    "    def test_valid_post(self):\n",
    "        response = make_request('the-page', method='POST', data='valid')\n",
    "        self.assertTrue(200 == response, \"Bad status code\")\n",
    "\n",
    "    def test_invalid_post(self):\n",
    "        response = make_request('the-page', method='POST', data='invalid')\n",
    "        self.assertTrue(200 == response, \"Bad status code\")\n",
    "\n",
    "run_test_suite(RequestTests)\n"
   ]
  },
  {
   "cell_type": "code",
   "execution_count": null,
   "metadata": {
    "slideshow": {
     "slide_type": "slide"
    }
   },
   "outputs": [],
   "source": [
    "import unittest\n",
    "\n",
    "class RequestTests(unittest.TestCase):\n",
    "    longMessage = True\n",
    "\n",
    "    def test_page_loads(self):\n",
    "        response = make_request('the-page')\n",
    "        self.assertTrue(200 == response, \"Bad status code\")\n",
    "\n",
    "    def test_valid_post(self):\n",
    "        response = make_request('the-page', method='POST', data='valid')\n",
    "        self.assertTrue(200 == response, \"Bad status code\")\n",
    "\n",
    "    def test_invalid_post(self):\n",
    "        response = make_request('the-page', method='POST', data='invalid')\n",
    "        self.assertTrue(200 == response, \"Bad status code\")\n",
    "\n",
    "run_test_suite(RequestTests)\n"
   ]
  },
  {
   "cell_type": "code",
   "execution_count": null,
   "metadata": {
    "slideshow": {
     "slide_type": "slide"
    }
   },
   "outputs": [],
   "source": [
    "import unittest\n",
    "\n",
    "class RequestTests(unittest.TestCase):\n",
    "    longMessage = True\n",
    "\n",
    "    def test_page_loads(self):\n",
    "        response = make_request('the-page')\n",
    "        self.assertEqual(200, response, \"Bad status code\")\n",
    "\n",
    "    def test_valid_post(self):\n",
    "        response = make_request('the-page', method='POST', data='valid')\n",
    "        self.assertEqual(200, response, \"Bad status code\")\n",
    "\n",
    "    def test_invalid_post(self):\n",
    "        response = make_request('the-page', method='PSOT', data='invalid')\n",
    "        self.assertEqual(200, response, \"Bad status code\")\n",
    "\n",
    "run_test_suite(RequestTests)\n"
   ]
  },
  {
   "cell_type": "code",
   "execution_count": null,
   "metadata": {
    "slideshow": {
     "slide_type": "slide"
    }
   },
   "outputs": [],
   "source": [
    "import unittest\n",
    "\n",
    "class RequestTests(unittest.TestCase):\n",
    "    longMessage = True\n",
    "\n",
    "    def test_page_loads(self):\n",
    "        status_code, body = make_request('the-page')\n",
    "        self.assertEqual(200, status_code, \"Bad status code\")\n",
    "\n",
    "    def test_valid_post(self):\n",
    "        status_code, body = make_request('the-page', method='POST', data='valid')\n",
    "        self.assertEqual(200, status_code, \"Bad status code\")\n",
    "\n",
    "    def test_invalid_post(self):\n",
    "        status_code, body = make_request('the-page', method='PSOT', data='invalid')\n",
    "        self.assertEqual(200, status_code, \"Bad status code\")\n",
    "\n",
    "run_test_suite(RequestTests)\n"
   ]
  },
  {
   "cell_type": "code",
   "execution_count": null,
   "metadata": {
    "slideshow": {
     "slide_type": "slide"
    }
   },
   "outputs": [],
   "source": [
    "import unittest\n",
    "\n",
    "class RequestTests(unittest.TestCase):\n",
    "    longMessage = True\n",
    "\n",
    "    def test_page_loads(self):\n",
    "        status_code, body = make_request('the-page')\n",
    "        self.assertEqual(200, status_code, \"Bad status code\")\n",
    "        self.assertIn('This is the good page', body)\n",
    "\n",
    "    def test_valid_post(self):\n",
    "        status_code, body = make_request('the-page', method='POST', data='valid')\n",
    "        self.assertEqual(200, status_code, \"Bad status code\")\n",
    "        self.assertIn('submission succeeded', body)\n",
    "\n",
    "    def test_invalid_post(self):\n",
    "        status_code, body = make_request('the-page', method='PSOT', data='invalid')\n",
    "        self.assertEqual(200, status_code, \"Bad status code\")\n",
    "        self.assertIn('submission was invalid', body)\n",
    "\n",
    "run_test_suite(RequestTests)\n"
   ]
  },
  {
   "cell_type": "code",
   "execution_count": null,
   "metadata": {
    "slideshow": {
     "slide_type": "slide"
    }
   },
   "outputs": [],
   "source": [
    "import unittest\n",
    "\n",
    "class RequestTests(unittest.TestCase):\n",
    "    longMessage = True\n",
    "\n",
    "    def assertResponseOKAndContains(self, response, needle):\n",
    "        status_code, body = response\n",
    "        self.assertEqual(200, status_code, \"Bad status code\")\n",
    "        self.assertIn(needle, body)\n",
    "\n",
    "    def test_page_loads(self):\n",
    "        response = make_request('the-page')\n",
    "        self.assertResponseOKAndContains(response, 'This is the good page')\n",
    "\n",
    "    def test_valid_post(self):\n",
    "        response = make_request('the-page', method='POST', data='valid')\n",
    "        self.assertResponseOKAndContains(response, 'submission succeeded')\n",
    "\n",
    "    def test_invalid_post(self):\n",
    "        response = make_request('the-page', method='PSOT', data='invalid')\n",
    "        self.assertResponseOKAndContains(response, 'submission was invalid')\n",
    "\n",
    "run_test_suite(RequestTests)\n"
   ]
  },
  {
   "cell_type": "markdown",
   "metadata": {
    "slideshow": {
     "slide_type": "slide"
    }
   },
   "source": [
    "* Use `longMessage`\n",
    "* Wrap common assertions"
   ]
  }
 ],
 "metadata": {
  "celltoolbar": "Slideshow",
  "kernelspec": {
   "display_name": "Python 2",
   "language": "python",
   "name": "python2"
  },
  "language_info": {
   "codemirror_mode": {
    "name": "ipython",
    "version": 2
   },
   "file_extension": ".py",
   "mimetype": "text/x-python",
   "name": "python",
   "nbconvert_exporter": "python",
   "pygments_lexer": "ipython2",
   "version": "2.7.11"
  },
  "livereveal": {
   "scroll": true
  }
 },
 "nbformat": 4,
 "nbformat_minor": 2
}
