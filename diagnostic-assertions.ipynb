{
 "cells": [
  {
   "cell_type": "markdown",
   "metadata": {
    "editable": true,
    "slideshow": {
     "slide_type": "slide"
    },
    "tags": []
   },
   "source": [
    "# Diagnostic Assertions\n",
    "\n",
    "## How to make reading, writing & fixing tests easier\n",
    "\n",
    "\n",
    "-----\n",
    "Peter Law\n",
    "\n",
    "<style type=\"text/css\">\n",
    ".reveal .cm-editor pre,\n",
    ".reveal .jp-OutputArea-output pre {\n",
    "    font-size: 0.8rem !important;\n",
    "}\n",
    "</style>"
   ]
  },
  {
   "cell_type": "markdown",
   "metadata": {
    "editable": true,
    "slideshow": {
     "slide_type": "notes"
    },
    "tags": []
   },
   "source": [
    "* How many of you have tests?\n",
    "* How many of you have ever had test failures?\n",
    "* How many of you found it really easy to fix those test failures?"
   ]
  },
  {
   "cell_type": "code",
   "execution_count": 1,
   "metadata": {
    "editable": true,
    "slideshow": {
     "slide_type": "skip"
    },
    "tags": []
   },
   "outputs": [],
   "source": [
    "def get_items():\n",
    "    return [3, 1, 4, 1, 5, 9]\n",
    "\n",
    "def make_request(page, method='GET', data=None):\n",
    "    if page == 'the-page':\n",
    "        if method == 'GET':\n",
    "            return 200, \"<h1>This is the good page</h1>\"\n",
    "        elif method == 'POST':\n",
    "            if data == 'valid-data':\n",
    "                return 200, \"<h2>Your submission succeeded</h2>\"\n",
    "            else:\n",
    "                return 200, \"<h2>Your submission was invalid</h2>\"\n",
    "        else:\n",
    "            return 500, \"Oops! Here's a stack trace...\"\n",
    "\n",
    "    return 404, \"Unknown request %r %r %r\" % (page, method, data)\n",
    "\n",
    "def run_test_suite(test_class):\n",
    "    suite = unittest.TestLoader().loadTestsFromTestCase(test_class)\n",
    "    unittest.TextTestRunner(verbosity=1).run(suite)\n"
   ]
  },
  {
   "cell_type": "code",
   "execution_count": 2,
   "metadata": {
    "slideshow": {
     "slide_type": "slide"
    }
   },
   "outputs": [
    {
     "name": "stderr",
     "output_type": "stream",
     "text": [
      "FFF\n",
      "======================================================================\n",
      "FAIL: test_invalid_post (__main__.RequestTests.test_invalid_post)\n",
      "----------------------------------------------------------------------\n",
      "Traceback (most recent call last):\n",
      "  File \"/tmp/ipykernel_68865/2763030753.py\", line 14, in test_invalid_post\n",
      "    self.assertTrue(200 == response)\n",
      "AssertionError: False is not true\n",
      "\n",
      "======================================================================\n",
      "FAIL: test_page_loads (__main__.RequestTests.test_page_loads)\n",
      "----------------------------------------------------------------------\n",
      "Traceback (most recent call last):\n",
      "  File \"/tmp/ipykernel_68865/2763030753.py\", line 6, in test_page_loads\n",
      "    self.assertTrue(200 == response)\n",
      "AssertionError: False is not true\n",
      "\n",
      "======================================================================\n",
      "FAIL: test_valid_post (__main__.RequestTests.test_valid_post)\n",
      "----------------------------------------------------------------------\n",
      "Traceback (most recent call last):\n",
      "  File \"/tmp/ipykernel_68865/2763030753.py\", line 10, in test_valid_post\n",
      "    self.assertTrue(200 == response)\n",
      "AssertionError: False is not true\n",
      "\n",
      "----------------------------------------------------------------------\n",
      "Ran 3 tests in 0.002s\n",
      "\n",
      "FAILED (failures=3)\n"
     ]
    }
   ],
   "source": [
    "import unittest\n",
    "\n",
    "class RequestTests(unittest.TestCase):\n",
    "    def test_page_loads(self):\n",
    "        response = make_request('the-page')\n",
    "        self.assertTrue(200 == response)\n",
    "\n",
    "    def test_valid_post(self):\n",
    "        response = make_request('the-page', method='POST', data='valid')\n",
    "        self.assertTrue(200 == response)\n",
    "\n",
    "    def test_invalid_post(self):\n",
    "        response = make_request('the-page', method='POST', data='invalid')\n",
    "        self.assertTrue(200 == response)\n",
    "\n",
    "run_test_suite(RequestTests)\n"
   ]
  },
  {
   "cell_type": "code",
   "execution_count": 3,
   "metadata": {
    "slideshow": {
     "slide_type": "slide"
    }
   },
   "outputs": [
    {
     "name": "stderr",
     "output_type": "stream",
     "text": [
      "FFF\n",
      "======================================================================\n",
      "FAIL: test_invalid_post (__main__.RequestTests.test_invalid_post)\n",
      "----------------------------------------------------------------------\n",
      "Traceback (most recent call last):\n",
      "  File \"/tmp/ipykernel_68865/1110939171.py\", line 14, in test_invalid_post\n",
      "    self.assertTrue(200 == response, \"Bad status code\")\n",
      "AssertionError: False is not true : Bad status code\n",
      "\n",
      "======================================================================\n",
      "FAIL: test_page_loads (__main__.RequestTests.test_page_loads)\n",
      "----------------------------------------------------------------------\n",
      "Traceback (most recent call last):\n",
      "  File \"/tmp/ipykernel_68865/1110939171.py\", line 6, in test_page_loads\n",
      "    self.assertTrue(200 == response, \"Bad status code\")\n",
      "AssertionError: False is not true : Bad status code\n",
      "\n",
      "======================================================================\n",
      "FAIL: test_valid_post (__main__.RequestTests.test_valid_post)\n",
      "----------------------------------------------------------------------\n",
      "Traceback (most recent call last):\n",
      "  File \"/tmp/ipykernel_68865/1110939171.py\", line 10, in test_valid_post\n",
      "    self.assertTrue(200 == response, \"Bad status code\")\n",
      "AssertionError: False is not true : Bad status code\n",
      "\n",
      "----------------------------------------------------------------------\n",
      "Ran 3 tests in 0.003s\n",
      "\n",
      "FAILED (failures=3)\n"
     ]
    }
   ],
   "source": [
    "import unittest\n",
    "\n",
    "class RequestTests(unittest.TestCase):\n",
    "    def test_page_loads(self):\n",
    "        response = make_request('the-page')\n",
    "        self.assertTrue(200 == response, \"Bad status code\")\n",
    "\n",
    "    def test_valid_post(self):\n",
    "        response = make_request('the-page', method='POST', data='valid')\n",
    "        self.assertTrue(200 == response, \"Bad status code\")\n",
    "\n",
    "    def test_invalid_post(self):\n",
    "        response = make_request('the-page', method='POST', data='invalid')\n",
    "        self.assertTrue(200 == response, \"Bad status code\")\n",
    "\n",
    "run_test_suite(RequestTests)\n"
   ]
  },
  {
   "cell_type": "code",
   "execution_count": 4,
   "metadata": {
    "slideshow": {
     "slide_type": "slide"
    }
   },
   "outputs": [
    {
     "name": "stderr",
     "output_type": "stream",
     "text": [
      "FFF\n",
      "======================================================================\n",
      "FAIL: test_invalid_post (__main__.RequestTests.test_invalid_post)\n",
      "----------------------------------------------------------------------\n",
      "Traceback (most recent call last):\n",
      "  File \"/tmp/ipykernel_68865/1110939171.py\", line 14, in test_invalid_post\n",
      "    self.assertTrue(200 == response, \"Bad status code\")\n",
      "AssertionError: False is not true : Bad status code\n",
      "\n",
      "======================================================================\n",
      "FAIL: test_page_loads (__main__.RequestTests.test_page_loads)\n",
      "----------------------------------------------------------------------\n",
      "Traceback (most recent call last):\n",
      "  File \"/tmp/ipykernel_68865/1110939171.py\", line 6, in test_page_loads\n",
      "    self.assertTrue(200 == response, \"Bad status code\")\n",
      "AssertionError: False is not true : Bad status code\n",
      "\n",
      "======================================================================\n",
      "FAIL: test_valid_post (__main__.RequestTests.test_valid_post)\n",
      "----------------------------------------------------------------------\n",
      "Traceback (most recent call last):\n",
      "  File \"/tmp/ipykernel_68865/1110939171.py\", line 10, in test_valid_post\n",
      "    self.assertTrue(200 == response, \"Bad status code\")\n",
      "AssertionError: False is not true : Bad status code\n",
      "\n",
      "----------------------------------------------------------------------\n",
      "Ran 3 tests in 0.002s\n",
      "\n",
      "FAILED (failures=3)\n"
     ]
    }
   ],
   "source": [
    "import unittest\n",
    "\n",
    "class RequestTests(unittest.TestCase):\n",
    "    def test_page_loads(self):\n",
    "        response = make_request('the-page')\n",
    "        self.assertTrue(200 == response, \"Bad status code\")\n",
    "\n",
    "    def test_valid_post(self):\n",
    "        response = make_request('the-page', method='POST', data='valid')\n",
    "        self.assertTrue(200 == response, \"Bad status code\")\n",
    "\n",
    "    def test_invalid_post(self):\n",
    "        response = make_request('the-page', method='POST', data='invalid')\n",
    "        self.assertTrue(200 == response, \"Bad status code\")\n",
    "\n",
    "run_test_suite(RequestTests)\n"
   ]
  },
  {
   "cell_type": "code",
   "execution_count": 5,
   "metadata": {
    "slideshow": {
     "slide_type": "slide"
    }
   },
   "outputs": [
    {
     "name": "stderr",
     "output_type": "stream",
     "text": [
      "FFF\n",
      "======================================================================\n",
      "FAIL: test_invalid_post (__main__.RequestTests.test_invalid_post)\n",
      "----------------------------------------------------------------------\n",
      "Traceback (most recent call last):\n",
      "  File \"/tmp/ipykernel_68865/418535316.py\", line 14, in test_invalid_post\n",
      "    self.assertEqual(200, response, \"Bad status code\")\n",
      "AssertionError: 200 != (500, \"Oops! Here's a stack trace...\") : Bad status code\n",
      "\n",
      "======================================================================\n",
      "FAIL: test_page_loads (__main__.RequestTests.test_page_loads)\n",
      "----------------------------------------------------------------------\n",
      "Traceback (most recent call last):\n",
      "  File \"/tmp/ipykernel_68865/418535316.py\", line 6, in test_page_loads\n",
      "    self.assertEqual(200, response, \"Bad status code\")\n",
      "AssertionError: 200 != (200, '<h1>This is the good page</h1>') : Bad status code\n",
      "\n",
      "======================================================================\n",
      "FAIL: test_valid_post (__main__.RequestTests.test_valid_post)\n",
      "----------------------------------------------------------------------\n",
      "Traceback (most recent call last):\n",
      "  File \"/tmp/ipykernel_68865/418535316.py\", line 10, in test_valid_post\n",
      "    self.assertEqual(200, response, \"Bad status code\")\n",
      "AssertionError: 200 != (200, '<h2>Your submission was invalid</h2>') : Bad status code\n",
      "\n",
      "----------------------------------------------------------------------\n",
      "Ran 3 tests in 0.003s\n",
      "\n",
      "FAILED (failures=3)\n"
     ]
    }
   ],
   "source": [
    "import unittest\n",
    "\n",
    "class RequestTests(unittest.TestCase):\n",
    "    def test_page_loads(self):\n",
    "        response = make_request('the-page')\n",
    "        self.assertEqual(200, response, \"Bad status code\")\n",
    "\n",
    "    def test_valid_post(self):\n",
    "        response = make_request('the-page', method='POST', data='valid')\n",
    "        self.assertEqual(200, response, \"Bad status code\")\n",
    "\n",
    "    def test_invalid_post(self):\n",
    "        response = make_request('the-page', method='PSOT', data='invalid')\n",
    "        self.assertEqual(200, response, \"Bad status code\")\n",
    "\n",
    "run_test_suite(RequestTests)\n"
   ]
  },
  {
   "cell_type": "code",
   "execution_count": 6,
   "metadata": {
    "slideshow": {
     "slide_type": "slide"
    }
   },
   "outputs": [
    {
     "name": "stderr",
     "output_type": "stream",
     "text": [
      "F..\n",
      "======================================================================\n",
      "FAIL: test_invalid_post (__main__.RequestTests.test_invalid_post)\n",
      "----------------------------------------------------------------------\n",
      "Traceback (most recent call last):\n",
      "  File \"/tmp/ipykernel_68865/1766714333.py\", line 14, in test_invalid_post\n",
      "    self.assertEqual(200, status_code, \"Bad status code\")\n",
      "AssertionError: 200 != 500 : Bad status code\n",
      "\n",
      "----------------------------------------------------------------------\n",
      "Ran 3 tests in 0.002s\n",
      "\n",
      "FAILED (failures=1)\n"
     ]
    }
   ],
   "source": [
    "import unittest\n",
    "\n",
    "class RequestTests(unittest.TestCase):\n",
    "    def test_page_loads(self):\n",
    "        status_code, body = make_request('the-page')\n",
    "        self.assertEqual(200, status_code, \"Bad status code\")\n",
    "\n",
    "    def test_valid_post(self):\n",
    "        status_code, body = make_request('the-page', method='POST', data='valid')\n",
    "        self.assertEqual(200, status_code, \"Bad status code\")\n",
    "\n",
    "    def test_invalid_post(self):\n",
    "        status_code, body = make_request('the-page', method='PSOT', data='invalid')\n",
    "        self.assertEqual(200, status_code, \"Bad status code\")\n",
    "\n",
    "run_test_suite(RequestTests)\n"
   ]
  },
  {
   "cell_type": "code",
   "execution_count": 7,
   "metadata": {
    "slideshow": {
     "slide_type": "slide"
    }
   },
   "outputs": [
    {
     "name": "stderr",
     "output_type": "stream",
     "text": [
      "F.F\n",
      "======================================================================\n",
      "FAIL: test_invalid_post (__main__.RequestTests.test_invalid_post)\n",
      "----------------------------------------------------------------------\n",
      "Traceback (most recent call last):\n",
      "  File \"/tmp/ipykernel_68865/194924541.py\", line 16, in test_invalid_post\n",
      "    self.assertEqual(200, status_code, \"Bad status code\")\n",
      "AssertionError: 200 != 500 : Bad status code\n",
      "\n",
      "======================================================================\n",
      "FAIL: test_valid_post (__main__.RequestTests.test_valid_post)\n",
      "----------------------------------------------------------------------\n",
      "Traceback (most recent call last):\n",
      "  File \"/tmp/ipykernel_68865/194924541.py\", line 12, in test_valid_post\n",
      "    self.assertIn('submission succeeded', body)\n",
      "AssertionError: 'submission succeeded' not found in '<h2>Your submission was invalid</h2>'\n",
      "\n",
      "----------------------------------------------------------------------\n",
      "Ran 3 tests in 0.002s\n",
      "\n",
      "FAILED (failures=2)\n"
     ]
    }
   ],
   "source": [
    "import unittest\n",
    "\n",
    "class RequestTests(unittest.TestCase):\n",
    "    def test_page_loads(self):\n",
    "        status_code, body = make_request('the-page')\n",
    "        self.assertEqual(200, status_code, \"Bad status code\")\n",
    "        self.assertIn('This is the good page', body)\n",
    "\n",
    "    def test_valid_post(self):\n",
    "        status_code, body = make_request('the-page', method='POST', data='valid')\n",
    "        self.assertEqual(200, status_code, \"Bad status code\")\n",
    "        self.assertIn('submission succeeded', body)\n",
    "\n",
    "    def test_invalid_post(self):\n",
    "        status_code, body = make_request('the-page', method='PSOT', data='invalid')\n",
    "        self.assertEqual(200, status_code, \"Bad status code\")\n",
    "        self.assertIn('submission was invalid', body)\n",
    "\n",
    "run_test_suite(RequestTests)\n"
   ]
  },
  {
   "cell_type": "code",
   "execution_count": 8,
   "metadata": {
    "slideshow": {
     "slide_type": "slide"
    }
   },
   "outputs": [
    {
     "name": "stderr",
     "output_type": "stream",
     "text": [
      "F.F\n",
      "======================================================================\n",
      "FAIL: test_invalid_post (__main__.RequestTests.test_invalid_post)\n",
      "----------------------------------------------------------------------\n",
      "Traceback (most recent call last):\n",
      "  File \"/tmp/ipykernel_68865/1275651505.py\", line 19, in test_invalid_post\n",
      "    self.assertResponseOKAndContains(response, 'submission was invalid')\n",
      "  File \"/tmp/ipykernel_68865/1275651505.py\", line 6, in assertResponseOKAndContains\n",
      "    self.assertEqual(200, status_code, \"Bad status code\")\n",
      "AssertionError: 200 != 500 : Bad status code\n",
      "\n",
      "======================================================================\n",
      "FAIL: test_valid_post (__main__.RequestTests.test_valid_post)\n",
      "----------------------------------------------------------------------\n",
      "Traceback (most recent call last):\n",
      "  File \"/tmp/ipykernel_68865/1275651505.py\", line 15, in test_valid_post\n",
      "    self.assertResponseOKAndContains(response, 'submission succeeded')\n",
      "  File \"/tmp/ipykernel_68865/1275651505.py\", line 7, in assertResponseOKAndContains\n",
      "    self.assertIn(needle, body)\n",
      "AssertionError: 'submission succeeded' not found in '<h2>Your submission was invalid</h2>'\n",
      "\n",
      "----------------------------------------------------------------------\n",
      "Ran 3 tests in 0.003s\n",
      "\n",
      "FAILED (failures=2)\n"
     ]
    }
   ],
   "source": [
    "import unittest\n",
    "\n",
    "class RequestTests(unittest.TestCase):\n",
    "    def assertResponseOKAndContains(self, response, needle):\n",
    "        status_code, body = response\n",
    "        self.assertEqual(200, status_code, \"Bad status code\")\n",
    "        self.assertIn(needle, body)\n",
    "\n",
    "    def test_page_loads(self):\n",
    "        response = make_request('the-page')\n",
    "        self.assertResponseOKAndContains(response, 'This is the good page')\n",
    "\n",
    "    def test_valid_post(self):\n",
    "        response = make_request('the-page', method='POST', data='valid')\n",
    "        self.assertResponseOKAndContains(response, 'submission succeeded')\n",
    "\n",
    "    def test_invalid_post(self):\n",
    "        response = make_request('the-page', method='PSOT', data='invalid')\n",
    "        self.assertResponseOKAndContains(response, 'submission was invalid')\n",
    "\n",
    "run_test_suite(RequestTests)\n"
   ]
  },
  {
   "cell_type": "code",
   "execution_count": 9,
   "metadata": {
    "slideshow": {
     "slide_type": "slide"
    }
   },
   "outputs": [
    {
     "name": "stderr",
     "output_type": "stream",
     "text": [
      "F\n",
      "======================================================================\n",
      "FAIL: test_collection (__main__.ValuesTests.test_collection)\n",
      "----------------------------------------------------------------------\n",
      "Traceback (most recent call last):\n",
      "  File \"/tmp/ipykernel_68865/3737530887.py\", line 6, in test_collection\n",
      "    self.assertEqual(5, len(items), \"Wrong length\")\n",
      "AssertionError: 5 != 6 : Wrong length\n",
      "\n",
      "----------------------------------------------------------------------\n",
      "Ran 1 test in 0.001s\n",
      "\n",
      "FAILED (failures=1)\n"
     ]
    }
   ],
   "source": [
    "import unittest\n",
    "\n",
    "class ValuesTests(unittest.TestCase):\n",
    "    def test_collection(self):\n",
    "        items = get_items()\n",
    "        self.assertEqual(5, len(items), \"Wrong length\")\n",
    "        self.assertIn(1, items)\n",
    "        self.assertIn(3, items)\n",
    "        self.assertIn(4, items)\n",
    "        self.assertIn(5, items)\n",
    "        self.assertIn(9, items)\n",
    "\n",
    "run_test_suite(ValuesTests)\n"
   ]
  },
  {
   "cell_type": "code",
   "execution_count": 10,
   "metadata": {
    "slideshow": {
     "slide_type": "slide"
    }
   },
   "outputs": [
    {
     "name": "stderr",
     "output_type": "stream",
     "text": [
      "F\n",
      "======================================================================\n",
      "FAIL: test_collection (__main__.ValuesTests.test_collection)\n",
      "----------------------------------------------------------------------\n",
      "Traceback (most recent call last):\n",
      "  File \"/tmp/ipykernel_68865/2941918694.py\", line 6, in test_collection\n",
      "    self.assertEqual([1, 3, 4, 5, 9, 1], items, \"Wrong items\")\n",
      "AssertionError: Lists differ: [1, 3, 4, 5, 9, 1] != [3, 1, 4, 1, 5, 9]\n",
      "\n",
      "First differing element 0:\n",
      "1\n",
      "3\n",
      "\n",
      "- [1, 3, 4, 5, 9, 1]\n",
      "+ [3, 1, 4, 1, 5, 9] : Wrong items\n",
      "\n",
      "----------------------------------------------------------------------\n",
      "Ran 1 test in 0.002s\n",
      "\n",
      "FAILED (failures=1)\n"
     ]
    }
   ],
   "source": [
    "import unittest\n",
    "\n",
    "class ValuesTests(unittest.TestCase):\n",
    "    def test_collection(self):\n",
    "        items = get_items()\n",
    "        self.assertEqual([1, 3, 4, 5, 9, 1], items, \"Wrong items\")\n",
    "\n",
    "run_test_suite(ValuesTests)\n"
   ]
  },
  {
   "cell_type": "code",
   "execution_count": 11,
   "metadata": {
    "slideshow": {
     "slide_type": "slide"
    }
   },
   "outputs": [
    {
     "name": "stderr",
     "output_type": "stream",
     "text": [
      ".\n",
      "----------------------------------------------------------------------\n",
      "Ran 1 test in 0.002s\n",
      "\n",
      "OK\n"
     ]
    }
   ],
   "source": [
    "import unittest\n",
    "\n",
    "class ValuesTests(unittest.TestCase):\n",
    "    def test_collection(self):\n",
    "        items = get_items()\n",
    "        self.assertCountEqual([1, 3, 4, 5, 9, 1], items, \"Wrong items\")\n",
    "\n",
    "run_test_suite(ValuesTests)\n"
   ]
  },
  {
   "cell_type": "markdown",
   "metadata": {
    "slideshow": {
     "slide_type": "slide"
    }
   },
   "source": [
    "* Make the most of the test framework\n",
    "* Record the _intent_ of the test\n",
    "* Wrap common assertions"
   ]
  }
 ],
 "metadata": {
  "celltoolbar": "Slideshow",
  "kernelspec": {
   "display_name": "diagnostic-assertions",
   "language": "python",
   "name": "python3"
  },
  "language_info": {
   "codemirror_mode": {
    "name": "ipython",
    "version": 3
   },
   "file_extension": ".py",
   "mimetype": "text/x-python",
   "name": "python",
   "nbconvert_exporter": "python",
   "pygments_lexer": "ipython3",
   "version": "3.11.10"
  },
  "livereveal": {
   "scroll": true
  }
 },
 "nbformat": 4,
 "nbformat_minor": 4
}
