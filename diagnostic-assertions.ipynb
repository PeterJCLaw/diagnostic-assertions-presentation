{
 "cells": [
  {
   "cell_type": "markdown",
   "metadata": {
    "slideshow": {
     "slide_type": "slide"
    }
   },
   "source": [
    "# Diagnostic Assertions\n",
    "\n",
    "## How to make reading, writing & fixing tests easier\n",
    "\n",
    "\n",
    "-----\n",
    "Peter Law\n"
   ]
  },
  {
   "cell_type": "markdown",
   "metadata": {
    "slideshow": {
     "slide_type": "notes"
    }
   },
   "source": [
    "* How many of you have tests?\n",
    "* How many of you have ever had test failures?\n",
    "* How many of you found it really easy to fix those test failures?"
   ]
  },
  {
   "cell_type": "code",
   "execution_count": 1,
   "metadata": {
    "slideshow": {
     "slide_type": "skip"
    }
   },
   "outputs": [],
   "source": [
    "def make_request(page, method='GET', data=None):\n",
    "    if page == 'the-page':\n",
    "        if method == 'GET':\n",
    "            return 200, \"<h1>This is the good page</h1>\"\n",
    "        elif method == 'POST':\n",
    "            if data == 'valid-data':\n",
    "                return 200, \"<h2>Your submission succeeded</h2>\"\n",
    "            else:\n",
    "                return 200, \"<h2>Your submission was invalid</h2>\"\n",
    "        else:\n",
    "            return 500, \"Oops! Here's a stack trace...\"\n",
    "\n",
    "    return 404, \"Unknown request %r %r %r\" % (page, method, data)\n",
    "\n",
    "def run_test_suite(test_class):\n",
    "    suite = unittest.TestLoader().loadTestsFromTestCase(test_class)\n",
    "    unittest.TextTestRunner(verbosity=1).run(suite)\n"
   ]
  },
  {
   "cell_type": "code",
   "execution_count": 2,
   "metadata": {
    "slideshow": {
     "slide_type": "slide"
    }
   },
   "outputs": [
    {
     "name": "stderr",
     "output_type": "stream",
     "text": [
      "FFF\n",
      "======================================================================\n",
      "FAIL: test_invalid_post (__main__.RequestTests)\n",
      "----------------------------------------------------------------------\n",
      "Traceback (most recent call last):\n",
      "  File \"<ipython-input-2-438368b7f979>\", line 14, in test_invalid_post\n",
      "    self.assertTrue(200 == response, \"Bad status code\")\n",
      "AssertionError: Bad status code\n",
      "\n",
      "======================================================================\n",
      "FAIL: test_page_loads (__main__.RequestTests)\n",
      "----------------------------------------------------------------------\n",
      "Traceback (most recent call last):\n",
      "  File \"<ipython-input-2-438368b7f979>\", line 6, in test_page_loads\n",
      "    self.assertTrue(200 == response, \"Bad status code\")\n",
      "AssertionError: Bad status code\n",
      "\n",
      "======================================================================\n",
      "FAIL: test_valid_post (__main__.RequestTests)\n",
      "----------------------------------------------------------------------\n",
      "Traceback (most recent call last):\n",
      "  File \"<ipython-input-2-438368b7f979>\", line 10, in test_valid_post\n",
      "    self.assertTrue(200 == response, \"Bad status code\")\n",
      "AssertionError: Bad status code\n",
      "\n",
      "----------------------------------------------------------------------\n",
      "Ran 3 tests in 0.003s\n",
      "\n",
      "FAILED (failures=3)\n"
     ]
    }
   ],
   "source": [
    "import unittest\n",
    "\n",
    "class RequestTests(unittest.TestCase):\n",
    "    def test_page_loads(self):\n",
    "        response = make_request('the-page')\n",
    "        self.assertTrue(200 == response, \"Bad status code\")\n",
    "\n",
    "    def test_valid_post(self):\n",
    "        response = make_request('the-page', method='POST', data='valid')\n",
    "        self.assertTrue(200 == response, \"Bad status code\")\n",
    "\n",
    "    def test_invalid_post(self):\n",
    "        response = make_request('the-page', method='POST', data='invalid')\n",
    "        self.assertTrue(200 == response, \"Bad status code\")\n",
    "\n",
    "run_test_suite(RequestTests)\n"
   ]
  },
  {
   "cell_type": "code",
   "execution_count": 3,
   "metadata": {
    "slideshow": {
     "slide_type": "slide"
    }
   },
   "outputs": [
    {
     "name": "stderr",
     "output_type": "stream",
     "text": [
      "FFF\n",
      "======================================================================\n",
      "FAIL: test_invalid_post (__main__.RequestTests)\n",
      "----------------------------------------------------------------------\n",
      "Traceback (most recent call last):\n",
      "  File \"<ipython-input-3-fd71f2c85adb>\", line 16, in test_invalid_post\n",
      "    self.assertTrue(200 == response, \"Bad status code\")\n",
      "AssertionError: False is not true : Bad status code\n",
      "\n",
      "======================================================================\n",
      "FAIL: test_page_loads (__main__.RequestTests)\n",
      "----------------------------------------------------------------------\n",
      "Traceback (most recent call last):\n",
      "  File \"<ipython-input-3-fd71f2c85adb>\", line 8, in test_page_loads\n",
      "    self.assertTrue(200 == response, \"Bad status code\")\n",
      "AssertionError: False is not true : Bad status code\n",
      "\n",
      "======================================================================\n",
      "FAIL: test_valid_post (__main__.RequestTests)\n",
      "----------------------------------------------------------------------\n",
      "Traceback (most recent call last):\n",
      "  File \"<ipython-input-3-fd71f2c85adb>\", line 12, in test_valid_post\n",
      "    self.assertTrue(200 == response, \"Bad status code\")\n",
      "AssertionError: False is not true : Bad status code\n",
      "\n",
      "----------------------------------------------------------------------\n",
      "Ran 3 tests in 0.002s\n",
      "\n",
      "FAILED (failures=3)\n"
     ]
    }
   ],
   "source": [
    "import unittest\n",
    "\n",
    "class RequestTests(unittest.TestCase):\n",
    "    longMessage = True\n",
    "\n",
    "    def test_page_loads(self):\n",
    "        response = make_request('the-page')\n",
    "        self.assertTrue(200 == response, \"Bad status code\")\n",
    "\n",
    "    def test_valid_post(self):\n",
    "        response = make_request('the-page', method='POST', data='valid')\n",
    "        self.assertTrue(200 == response, \"Bad status code\")\n",
    "\n",
    "    def test_invalid_post(self):\n",
    "        response = make_request('the-page', method='POST', data='invalid')\n",
    "        self.assertTrue(200 == response, \"Bad status code\")\n",
    "\n",
    "run_test_suite(RequestTests)\n"
   ]
  },
  {
   "cell_type": "code",
   "execution_count": 4,
   "metadata": {
    "slideshow": {
     "slide_type": "slide"
    }
   },
   "outputs": [
    {
     "name": "stderr",
     "output_type": "stream",
     "text": [
      "FFF\n",
      "======================================================================\n",
      "FAIL: test_invalid_post (__main__.RequestTests)\n",
      "----------------------------------------------------------------------\n",
      "Traceback (most recent call last):\n",
      "  File \"<ipython-input-4-1e8aaded9316>\", line 16, in test_invalid_post\n",
      "    self.assertEqual(200, response, \"Bad status code\")\n",
      "AssertionError: 200 != (500, \"Oops! Here's a stack trace...\") : Bad status code\n",
      "\n",
      "======================================================================\n",
      "FAIL: test_page_loads (__main__.RequestTests)\n",
      "----------------------------------------------------------------------\n",
      "Traceback (most recent call last):\n",
      "  File \"<ipython-input-4-1e8aaded9316>\", line 8, in test_page_loads\n",
      "    self.assertEqual(200, response, \"Bad status code\")\n",
      "AssertionError: 200 != (200, '<h1>This is the good page</h1>') : Bad status code\n",
      "\n",
      "======================================================================\n",
      "FAIL: test_valid_post (__main__.RequestTests)\n",
      "----------------------------------------------------------------------\n",
      "Traceback (most recent call last):\n",
      "  File \"<ipython-input-4-1e8aaded9316>\", line 12, in test_valid_post\n",
      "    self.assertEqual(200, response, \"Bad status code\")\n",
      "AssertionError: 200 != (200, '<h2>Your submission was invalid</h2>') : Bad status code\n",
      "\n",
      "----------------------------------------------------------------------\n",
      "Ran 3 tests in 0.004s\n",
      "\n",
      "FAILED (failures=3)\n"
     ]
    }
   ],
   "source": [
    "import unittest\n",
    "\n",
    "class RequestTests(unittest.TestCase):\n",
    "    longMessage = True\n",
    "\n",
    "    def test_page_loads(self):\n",
    "        response = make_request('the-page')\n",
    "        self.assertEqual(200, response, \"Bad status code\")\n",
    "\n",
    "    def test_valid_post(self):\n",
    "        response = make_request('the-page', method='POST', data='valid')\n",
    "        self.assertEqual(200, response, \"Bad status code\")\n",
    "\n",
    "    def test_invalid_post(self):\n",
    "        response = make_request('the-page', method='PSOT', data='invalid')\n",
    "        self.assertEqual(200, response, \"Bad status code\")\n",
    "\n",
    "run_test_suite(RequestTests)\n"
   ]
  },
  {
   "cell_type": "code",
   "execution_count": 5,
   "metadata": {
    "slideshow": {
     "slide_type": "slide"
    }
   },
   "outputs": [
    {
     "name": "stderr",
     "output_type": "stream",
     "text": [
      "F..\n",
      "======================================================================\n",
      "FAIL: test_invalid_post (__main__.RequestTests)\n",
      "----------------------------------------------------------------------\n",
      "Traceback (most recent call last):\n",
      "  File \"<ipython-input-5-5f85b03559e5>\", line 16, in test_invalid_post\n",
      "    self.assertEqual(200, status_code, \"Bad status code\")\n",
      "AssertionError: 200 != 500 : Bad status code\n",
      "\n",
      "----------------------------------------------------------------------\n",
      "Ran 3 tests in 0.004s\n",
      "\n",
      "FAILED (failures=1)\n"
     ]
    }
   ],
   "source": [
    "import unittest\n",
    "\n",
    "class RequestTests(unittest.TestCase):\n",
    "    longMessage = True\n",
    "\n",
    "    def test_page_loads(self):\n",
    "        status_code, body = make_request('the-page')\n",
    "        self.assertEqual(200, status_code, \"Bad status code\")\n",
    "\n",
    "    def test_valid_post(self):\n",
    "        status_code, body = make_request('the-page', method='POST', data='valid')\n",
    "        self.assertEqual(200, status_code, \"Bad status code\")\n",
    "\n",
    "    def test_invalid_post(self):\n",
    "        status_code, body = make_request('the-page', method='PSOT', data='invalid')\n",
    "        self.assertEqual(200, status_code, \"Bad status code\")\n",
    "\n",
    "run_test_suite(RequestTests)\n"
   ]
  },
  {
   "cell_type": "code",
   "execution_count": 6,
   "metadata": {
    "slideshow": {
     "slide_type": "slide"
    }
   },
   "outputs": [
    {
     "name": "stderr",
     "output_type": "stream",
     "text": [
      "F.F\n",
      "======================================================================\n",
      "FAIL: test_invalid_post (__main__.RequestTests)\n",
      "----------------------------------------------------------------------\n",
      "Traceback (most recent call last):\n",
      "  File \"<ipython-input-6-5c8355f13e67>\", line 18, in test_invalid_post\n",
      "    self.assertEqual(200, status_code, \"Bad status code\")\n",
      "AssertionError: 200 != 500 : Bad status code\n",
      "\n",
      "======================================================================\n",
      "FAIL: test_valid_post (__main__.RequestTests)\n",
      "----------------------------------------------------------------------\n",
      "Traceback (most recent call last):\n",
      "  File \"<ipython-input-6-5c8355f13e67>\", line 14, in test_valid_post\n",
      "    self.assertIn('submission succeeded', body)\n",
      "AssertionError: 'submission succeeded' not found in '<h2>Your submission was invalid</h2>'\n",
      "\n",
      "----------------------------------------------------------------------\n",
      "Ran 3 tests in 0.003s\n",
      "\n",
      "FAILED (failures=2)\n"
     ]
    }
   ],
   "source": [
    "import unittest\n",
    "\n",
    "class RequestTests(unittest.TestCase):\n",
    "    longMessage = True\n",
    "\n",
    "    def test_page_loads(self):\n",
    "        status_code, body = make_request('the-page')\n",
    "        self.assertEqual(200, status_code, \"Bad status code\")\n",
    "        self.assertIn('This is the good page', body)\n",
    "\n",
    "    def test_valid_post(self):\n",
    "        status_code, body = make_request('the-page', method='POST', data='valid')\n",
    "        self.assertEqual(200, status_code, \"Bad status code\")\n",
    "        self.assertIn('submission succeeded', body)\n",
    "\n",
    "    def test_invalid_post(self):\n",
    "        status_code, body = make_request('the-page', method='PSOT', data='invalid')\n",
    "        self.assertEqual(200, status_code, \"Bad status code\")\n",
    "        self.assertIn('submission was invalid', body)\n",
    "\n",
    "run_test_suite(RequestTests)\n"
   ]
  },
  {
   "cell_type": "code",
   "execution_count": 7,
   "metadata": {
    "slideshow": {
     "slide_type": "slide"
    }
   },
   "outputs": [
    {
     "name": "stderr",
     "output_type": "stream",
     "text": [
      "F.F\n",
      "======================================================================\n",
      "FAIL: test_invalid_post (__main__.RequestTests)\n",
      "----------------------------------------------------------------------\n",
      "Traceback (most recent call last):\n",
      "  File \"<ipython-input-7-f781d98af6e1>\", line 21, in test_invalid_post\n",
      "    self.assertResponseOKAndContains(response, 'submission was invalid')\n",
      "  File \"<ipython-input-7-f781d98af6e1>\", line 8, in assertResponseOKAndContains\n",
      "    self.assertEqual(200, status_code, \"Bad status code\")\n",
      "AssertionError: 200 != 500 : Bad status code\n",
      "\n",
      "======================================================================\n",
      "FAIL: test_valid_post (__main__.RequestTests)\n",
      "----------------------------------------------------------------------\n",
      "Traceback (most recent call last):\n",
      "  File \"<ipython-input-7-f781d98af6e1>\", line 17, in test_valid_post\n",
      "    self.assertResponseOKAndContains(response, 'submission succeeded')\n",
      "  File \"<ipython-input-7-f781d98af6e1>\", line 9, in assertResponseOKAndContains\n",
      "    self.assertIn(needle, body)\n",
      "AssertionError: 'submission succeeded' not found in '<h2>Your submission was invalid</h2>'\n",
      "\n",
      "----------------------------------------------------------------------\n",
      "Ran 3 tests in 0.003s\n",
      "\n",
      "FAILED (failures=2)\n"
     ]
    }
   ],
   "source": [
    "import unittest\n",
    "\n",
    "class RequestTests(unittest.TestCase):\n",
    "    longMessage = True\n",
    "\n",
    "    def assertResponseOKAndContains(self, response, needle):\n",
    "        status_code, body = response\n",
    "        self.assertEqual(200, status_code, \"Bad status code\")\n",
    "        self.assertIn(needle, body)\n",
    "\n",
    "    def test_page_loads(self):\n",
    "        response = make_request('the-page')\n",
    "        self.assertResponseOKAndContains(response, 'This is the good page')\n",
    "\n",
    "    def test_valid_post(self):\n",
    "        response = make_request('the-page', method='POST', data='valid')\n",
    "        self.assertResponseOKAndContains(response, 'submission succeeded')\n",
    "\n",
    "    def test_invalid_post(self):\n",
    "        response = make_request('the-page', method='PSOT', data='invalid')\n",
    "        self.assertResponseOKAndContains(response, 'submission was invalid')\n",
    "\n",
    "run_test_suite(RequestTests)\n"
   ]
  },
  {
   "cell_type": "markdown",
   "metadata": {
    "slideshow": {
     "slide_type": "slide"
    }
   },
   "source": [
    "* Use `longMessage`\n",
    "* Wrap common assertions"
   ]
  }
 ],
 "metadata": {
  "celltoolbar": "Slideshow",
  "kernelspec": {
   "display_name": "Python 2",
   "language": "python",
   "name": "python2"
  },
  "language_info": {
   "codemirror_mode": {
    "name": "ipython",
    "version": 2
   },
   "file_extension": ".py",
   "mimetype": "text/x-python",
   "name": "python",
   "nbconvert_exporter": "python",
   "pygments_lexer": "ipython2",
   "version": "2.7.12"
  },
  "livereveal": {
   "scroll": true
  }
 },
 "nbformat": 4,
 "nbformat_minor": 2
}
